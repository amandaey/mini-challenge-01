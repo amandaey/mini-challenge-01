{
 "cells": [
  {
   "cell_type": "code",
   "execution_count": 1,
   "metadata": {},
   "outputs": [
    {
     "name": "stdout",
     "output_type": "stream",
     "text": [
      "Grupo 1: ['Ana', 'Adriel', 'Mateus', 'Letícia', 'André']\n",
      "Grupo 2: ['Fe Mayumi', 'Maria', 'Kim', 'Felipe', 'Fe Mees']\n",
      "Grupo 3: ['Vitor', 'Paulo', 'Amanda', 'Guilherme', 'Gabriel']\n",
      "Grupo 4: ['Milena', 'Theo', 'Marcelo', 'Henrique']\n"
     ]
    }
   ],
   "source": [
    "import random\n",
    "\n",
    "# pessoas com restrição: André, Fernanda Mees, Gabriel e Henrique\n",
    "pessoas = ['Adriel','Amanda','Ana','Felipe', 'Fe Mayumi', 'Guilherme', 'Kim', 'Letícia', 'Marcelo', 'Maria', 'Mateus', 'Milena', 'Paulo', 'Theo', 'Vitor']\n",
    "\n",
    "#pessoas aleatórias\n",
    "random.shuffle(pessoas)\n",
    "\n",
    "# 4 grupos: 3 com 5 pessoas e 1 com 4 pessoas\n",
    "grupo1 = pessoas[:4]\n",
    "grupo2 = pessoas[4:8]\n",
    "grupo3 = pessoas[8:12]\n",
    "grupo4 = pessoas[12:]\n",
    "\n",
    "grupo1.append('André')\n",
    "grupo2.append('Fe Mees')\n",
    "grupo3.append('Gabriel')\n",
    "grupo4.append('Henrique')\n",
    "\n",
    "\n",
    "print(\"Grupo 1:\", grupo1)\n",
    "print(\"Grupo 2:\", grupo2)\n",
    "print(\"Grupo 3:\", grupo3)\n",
    "print(\"Grupo 4:\", grupo4)"
   ]
  }
 ],
 "metadata": {
  "kernelspec": {
   "display_name": "Python 3",
   "language": "python",
   "name": "python3"
  },
  "language_info": {
   "codemirror_mode": {
    "name": "ipython",
    "version": 3
   },
   "file_extension": ".py",
   "mimetype": "text/x-python",
   "name": "python",
   "nbconvert_exporter": "python",
   "pygments_lexer": "ipython3",
   "version": "3.11.3"
  },
  "orig_nbformat": 4
 },
 "nbformat": 4,
 "nbformat_minor": 2
}
